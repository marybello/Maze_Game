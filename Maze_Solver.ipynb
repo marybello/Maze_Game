{
  "nbformat": 4,
  "nbformat_minor": 0,
  "metadata": {
    "colab": {
      "provenance": [],
      "authorship_tag": "ABX9TyN3BVb9JGoZ6SLPcnAJBHLn",
      "include_colab_link": true
    },
    "kernelspec": {
      "name": "python3",
      "display_name": "Python 3"
    },
    "language_info": {
      "name": "python"
    }
  },
  "cells": [
    {
      "cell_type": "markdown",
      "metadata": {
        "id": "view-in-github",
        "colab_type": "text"
      },
      "source": [
        "<a href=\"https://colab.research.google.com/github/marybello/Maze_Game/blob/main/Maze_Solver.ipynb\" target=\"_parent\"><img src=\"https://colab.research.google.com/assets/colab-badge.svg\" alt=\"Open In Colab\"/></a>"
      ]
    },
    {
      "cell_type": "code",
      "execution_count": 13,
      "metadata": {
        "id": "lJKO4_9eh67l"
      },
      "outputs": [],
      "source": [
        "class StackFrontier():\n",
        "    def __init__(self):\n",
        "        self.frontier = []\n",
        "\n",
        "    def add(self, node):\n",
        "        self.frontier.append(node)\n",
        "\n",
        "    def contains_state(self, state):\n",
        "        return any(node.state == state for node in self.frontier)\n",
        "\n",
        "    def empty(self):\n",
        "        return len(self.frontier) == 0\n",
        "\n",
        "    def remove(self):\n",
        "        if self.empty():\n",
        "            raise Exception(\"empty frontier\")\n",
        "        else:\n",
        "            node = self.frontier[-1]\n",
        "            self.frontier = self.frontier[:-1]\n",
        "            return node  # Ensure the node is returned"
      ]
    },
    {
      "cell_type": "code",
      "source": [
        "class BFSFrontier(StackFrontier):\n",
        "    def remove(self):\n",
        "        if self.empty():\n",
        "            raise Exception(\"empty frontier\")\n",
        "        else:\n",
        "            node = self.frontier[0]\n",
        "            self.frontier = self.frontier[1:]\n",
        "            return node"
      ],
      "metadata": {
        "id": "PwRvCKLliCFU"
      },
      "execution_count": 2,
      "outputs": []
    },
    {
      "cell_type": "code",
      "source": [
        "class Node():\n",
        "    def __init__(self, state, parent, action):\n",
        "        self.state = state\n",
        "        self.parent = parent\n",
        "        self.action = action"
      ],
      "metadata": {
        "id": "BAA9BIddiF7v"
      },
      "execution_count": 3,
      "outputs": []
    },
    {
      "cell_type": "code",
      "source": [
        "class Maze():\n",
        "  def __init__(self, filename):\n",
        "    with open(filename) as f:\n",
        "      contents = f.read()\n",
        "         # Validate start and goal\n",
        "    if contents.count(\"A\") != 1:\n",
        "        raise Exception(\"maze must have exactly one start point\")\n",
        "    if contents.count(\"B\") != 1:\n",
        "        raise Exception(\"maze must have exactly one goal\")\n",
        "\n",
        "   # Determine height and width\n",
        "    contents = contents.splitlines()\n",
        "    self.height = len(contents)\n",
        "    self.width = max(len(line) for line in contents)\n",
        "\n",
        "    #keep track of walls\n",
        "    self.walls = []\n",
        "    for i in range(self.height):\n",
        "      row = []\n",
        "      for j in range(self.width):\n",
        "        try:\n",
        "          if contents[i][j] =='A':\n",
        "            self.start = (i,j)\n",
        "            row.append(False)\n",
        "          elif contents[i][j] == 'B':\n",
        "            self.goal = (i,j)\n",
        "            row.append(False)\n",
        "          elif contents[i][j] == ' ':\n",
        "            row.append(False)\n",
        "          else:\n",
        "            row.append(True)\n",
        "        except IndexError:\n",
        "          row.append(False)\n",
        "      self.walls.append(row)\n",
        "\n",
        "    self.solution = None\n",
        "\n",
        "    #visualize Maze\n",
        "  def visualize_maze(self):\n",
        "      solution = self.solution[1] if self.solution is not None else None\n",
        "      print()\n",
        "\n",
        "      for i, row in enumerate(self.walls):\n",
        "        for j,col in enumerate(row):\n",
        "          if col:\n",
        "            print('█', end='')\n",
        "          elif (i,j) == self.start:\n",
        "            print('A', end='')\n",
        "          elif (i,j) == self.goal:\n",
        "            print('B', end='')\n",
        "          elif solution is not None and (i,j) in solution:\n",
        "            print('*', end='')\n",
        "          else:\n",
        "            print(' ', end='')\n",
        "        print()\n",
        "      print()\n",
        "\n",
        "  def neighbors(self,state):\n",
        "        row, col = state\n",
        "        candidates =  [\n",
        "            (\"up\", (row - 1, col)),\n",
        "            (\"down\", (row + 1, col)),\n",
        "            (\"left\", (row, col - 1)),\n",
        "            (\"right\", (row, col + 1))\n",
        "        ]\n",
        "        result = []\n",
        "        for action, (r, c) in candidates:\n",
        "            try:\n",
        "                if not self.walls[r][c]:\n",
        "                    result.append((action, (r, c)))\n",
        "            except IndexError:\n",
        "                continue\n",
        "        return result\n",
        "\n",
        "  def solve(self):\n",
        "        self.num_explored = 0\n",
        "        start = Node(state=self.start, parent=None, action=None)\n",
        "        frontier = StackFrontier()\n",
        "        frontier.add(start)\n",
        "        self.explored = set()\n",
        "\n",
        "        while True:\n",
        "            if frontier.empty():\n",
        "                raise Exception(\"no solution\")\n",
        "\n",
        "            node = frontier.remove()\n",
        "            self.num_explored += 1\n",
        "            if node.state == self.goal:\n",
        "                actions = []\n",
        "                cells = []\n",
        "                while node.parent is not None:\n",
        "                    actions.append(node.action)\n",
        "                    cells.append(node.state)\n",
        "                    node = node.parent\n",
        "                actions.reverse()\n",
        "                cells.reverse()\n",
        "                solution = (actions, cells)\n",
        "                print(\"Solution Found:\", solution)\n",
        "                print(\"Number of Explored Nodes:\", self.num_explored)\n",
        "                return\n",
        "\n",
        "\n",
        "            self.explored.add(node.state)\n",
        "\n",
        "            for action, state in self.neighbors(node.state):\n",
        "               if not frontier.contains_state(state) and state not in self.explored:\n",
        "                     child = Node(state, node, action)\n",
        "                     frontier.add(child)\n",
        "\n"
      ],
      "metadata": {
        "id": "aD82M0noiOpQ"
      },
      "execution_count": 39,
      "outputs": []
    },
    {
      "cell_type": "code",
      "source": [
        "filename = 'maze1.txt'\n",
        "m = Maze(filename)"
      ],
      "metadata": {
        "id": "x4qmXXJCne11"
      },
      "execution_count": 41,
      "outputs": []
    },
    {
      "cell_type": "code",
      "source": [
        "m.visualize_maze()"
      ],
      "metadata": {
        "colab": {
          "base_uri": "https://localhost:8080/"
        },
        "id": "5Ooky-Cyn0oN",
        "outputId": "c924b6a1-df47-4b78-b93f-69d409e22846"
      },
      "execution_count": 21,
      "outputs": [
        {
          "output_type": "stream",
          "name": "stdout",
          "text": [
            "\n",
            "█████B█\n",
            "█████ █\n",
            "████  █\n",
            "████ ██\n",
            "     ██\n",
            "A██████\n",
            "\n"
          ]
        }
      ]
    },
    {
      "cell_type": "code",
      "source": [
        "m.solve()"
      ],
      "metadata": {
        "colab": {
          "base_uri": "https://localhost:8080/"
        },
        "id": "VkWsQtson1Pp",
        "outputId": "cfce4577-3a4a-4b1c-e14a-af9e45d8d53a"
      },
      "execution_count": 42,
      "outputs": [
        {
          "output_type": "stream",
          "name": "stdout",
          "text": [
            "Solution Found: (['up', 'right', 'right', 'right', 'right', 'up', 'up', 'right', 'up', 'up'], [(4, 0), (4, 1), (4, 2), (4, 3), (4, 4), (3, 4), (2, 4), (2, 5), (1, 5), (0, 5)])\n",
            "Number of Explored Nodes: 11\n"
          ]
        }
      ]
    },
    {
      "cell_type": "code",
      "source": [
        "s_m = Maze('maze2.txt')"
      ],
      "metadata": {
        "id": "ToeyHcLcoVrQ"
      },
      "execution_count": 44,
      "outputs": []
    },
    {
      "cell_type": "code",
      "source": [
        "s_m.visualize_maze()"
      ],
      "metadata": {
        "colab": {
          "base_uri": "https://localhost:8080/"
        },
        "id": "yv8kYwz6xdqm",
        "outputId": "30c2c280-1d52-4f24-ef48-ca7f486626a3"
      },
      "execution_count": 37,
      "outputs": [
        {
          "output_type": "stream",
          "name": "stdout",
          "text": [
            "\n",
            "███                 █████████\n",
            "█   ███████████████████   █ █\n",
            "█ ████                █ █ █ █\n",
            "█ ███████████████████ █ █ █ █\n",
            "█                     █ █ █ █\n",
            "█████████████████████ █ █ █ █\n",
            "█   ██                █ █ █ █\n",
            "█ █ ██ ███ ██ █████████ █ █ █\n",
            "█ █    █   ██B█         █ █ █\n",
            "█ █ ██ ████████████████ █ █ █\n",
            "███ ██             ████ █ █ █\n",
            "███ ██████████████ ██ █ █ █ █\n",
            "███             ██    █ █ █ █\n",
            "██████ ████████ ███████ █ █ █\n",
            "██████ ████             █   █\n",
            "A      ██████████████████████\n",
            "\n"
          ]
        }
      ]
    },
    {
      "cell_type": "code",
      "source": [
        "s_m.solve()"
      ],
      "metadata": {
        "colab": {
          "base_uri": "https://localhost:8080/"
        },
        "id": "a9XsxBSKxfvw",
        "outputId": "5cb3f982-e6cb-4468-93ee-13cb05a368dc"
      },
      "execution_count": 45,
      "outputs": [
        {
          "output_type": "stream",
          "name": "stdout",
          "text": [
            "Solution Found: (['right', 'right', 'right', 'right', 'right', 'right', 'up', 'up', 'up', 'left', 'left', 'left', 'up', 'up', 'up', 'up', 'right', 'right', 'right', 'up', 'up', 'right', 'right', 'right', 'right', 'right', 'right', 'right', 'down', 'down'], [(15, 1), (15, 2), (15, 3), (15, 4), (15, 5), (15, 6), (14, 6), (13, 6), (12, 6), (12, 5), (12, 4), (12, 3), (11, 3), (10, 3), (9, 3), (8, 3), (8, 4), (8, 5), (8, 6), (7, 6), (6, 6), (6, 7), (6, 8), (6, 9), (6, 10), (6, 11), (6, 12), (6, 13), (7, 13), (8, 13)])\n",
            "Number of Explored Nodes: 399\n"
          ]
        }
      ]
    },
    {
      "cell_type": "code",
      "source": [],
      "metadata": {
        "id": "CQv0BvdixjNP"
      },
      "execution_count": null,
      "outputs": []
    }
  ]
}